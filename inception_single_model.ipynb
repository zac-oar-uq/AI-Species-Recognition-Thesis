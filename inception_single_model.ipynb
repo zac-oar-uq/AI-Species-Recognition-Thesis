{
 "cells": [
  {
   "cell_type": "code",
   "execution_count": 11,
   "metadata": {},
   "outputs": [
    {
     "name": "stdout",
     "output_type": "stream",
     "text": [
      "The tensorboard extension is already loaded. To reload it, use:\n",
      "  %reload_ext tensorboard\n"
     ]
    }
   ],
   "source": [
    "from tensorflow.keras.applications import InceptionV3\n",
    "from tensorflow.keras.applications.inception_v3 import preprocess_input\n",
    "from tensorflow.keras.preprocessing.image import load_img, img_to_array\n",
    "from sklearn.model_selection import train_test_split\n",
    "from tensorflow import keras\n",
    "import numpy as np\n",
    "from os import listdir\n",
    "from os.path import isfile\n",
    "from prepare_data import *\n",
    "import math\n",
    "\n",
    "from datetime import datetime\n",
    "%load_ext tensorboard"
   ]
  },
  {
   "cell_type": "code",
   "execution_count": 12,
   "metadata": {},
   "outputs": [
    {
     "name": "stdout",
     "output_type": "stream",
     "text": [
      "Dataset.ninety\n"
     ]
    }
   ],
   "source": [
    "dataset = Dataset.carabid\n",
    "train_gen, val_gen, test_gen = prep_data(dataset, False, 4)"
   ]
  },
  {
   "cell_type": "code",
   "execution_count": 13,
   "metadata": {},
   "outputs": [],
   "source": [
    "# Inception model\n",
    "base_model = InceptionV3(weights=\"imagenet\")\n",
    "for layer in base_model.layers:\n",
    "    layer.trainable = True\n",
    "\n",
    "predictions = keras.layers.Dense(train_gen.num_classes(), activation='softmax')(base_model.layers[-2].output)\n",
    "\n",
    "model = keras.Model(inputs=base_model.input, outputs=predictions)\n",
    "model.compile(optimizer='adam', loss='sparse_categorical_crossentropy', metrics=['accuracy'])"
   ]
  },
  {
   "cell_type": "code",
   "execution_count": 14,
   "metadata": {},
   "outputs": [],
   "source": [
    "logdir = \"logs/inception_single_model\" + \"_\" + str(dataset) + \"_\" + datetime.now().strftime(\"%Y%m%d-%H%M%S\")\n",
    "tensorboard_callback = keras.callbacks.TensorBoard(log_dir=logdir)"
   ]
  },
  {
   "cell_type": "code",
   "execution_count": 15,
   "metadata": {},
   "outputs": [
    {
     "name": "stdout",
     "output_type": "stream",
     "text": [
      "Epoch 1/40\n",
      "953/953 [==============================] - 105s 103ms/step - loss: 4.5757 - accuracy: 0.0121 - val_loss: 7.2199 - val_accuracy: 0.0102\n",
      "Epoch 2/40\n",
      "953/953 [==============================] - 84s 88ms/step - loss: 4.5104 - accuracy: 0.0150 - val_loss: 7.0899 - val_accuracy: 0.0141\n",
      "Epoch 3/40\n",
      "953/953 [==============================] - 90s 95ms/step - loss: 4.5239 - accuracy: 0.0126 - val_loss: 4.5066 - val_accuracy: 0.0154\n",
      "Epoch 4/40\n",
      "953/953 [==============================] - 97s 102ms/step - loss: 4.4979 - accuracy: 0.0131 - val_loss: 4.7295 - val_accuracy: 0.0230\n",
      "Epoch 5/40\n",
      "953/953 [==============================] - 96s 100ms/step - loss: 4.4732 - accuracy: 0.0192 - val_loss: 5.8972 - val_accuracy: 0.0243\n",
      "Epoch 6/40\n",
      "953/953 [==============================] - 97s 102ms/step - loss: 4.4021 - accuracy: 0.0249 - val_loss: 4.3924 - val_accuracy: 0.0256\n",
      "Epoch 7/40\n",
      "953/953 [==============================] - 98s 103ms/step - loss: 4.3844 - accuracy: 0.0297 - val_loss: 7.2813 - val_accuracy: 0.0320\n",
      "Epoch 8/40\n",
      "953/953 [==============================] - 98s 103ms/step - loss: 4.3450 - accuracy: 0.0286 - val_loss: 4.6674 - val_accuracy: 0.0320\n",
      "Epoch 9/40\n",
      "953/953 [==============================] - 97s 102ms/step - loss: 4.3256 - accuracy: 0.0289 - val_loss: 4.6011 - val_accuracy: 0.0333\n",
      "Epoch 10/40\n",
      "953/953 [==============================] - 98s 103ms/step - loss: 4.3232 - accuracy: 0.0326 - val_loss: 4.3183 - val_accuracy: 0.0359\n",
      "Epoch 11/40\n",
      "953/953 [==============================] - 97s 102ms/step - loss: 4.3197 - accuracy: 0.0278 - val_loss: 4.5517 - val_accuracy: 0.0243\n",
      "Epoch 12/40\n",
      "953/953 [==============================] - 92s 97ms/step - loss: 4.2744 - accuracy: 0.0344 - val_loss: 4.3032 - val_accuracy: 0.0256\n",
      "Epoch 13/40\n",
      "953/953 [==============================] - 89s 93ms/step - loss: 4.2577 - accuracy: 0.0381 - val_loss: 9.3220 - val_accuracy: 0.0243\n",
      "Epoch 14/40\n",
      "953/953 [==============================] - 90s 94ms/step - loss: 4.2318 - accuracy: 0.0444 - val_loss: 4.4043 - val_accuracy: 0.0218\n",
      "Epoch 15/40\n",
      "953/953 [==============================] - 94s 98ms/step - loss: 4.2029 - accuracy: 0.0470 - val_loss: 4.4682 - val_accuracy: 0.0359\n",
      "Epoch 16/40\n",
      "953/953 [==============================] - 91s 95ms/step - loss: 4.1755 - accuracy: 0.0520 - val_loss: 4.3610 - val_accuracy: 0.0205\n",
      "Epoch 17/40\n",
      "953/953 [==============================] - 87s 91ms/step - loss: 4.1499 - accuracy: 0.0557 - val_loss: 4.2610 - val_accuracy: 0.0423\n",
      "Epoch 18/40\n",
      "953/953 [==============================] - 85s 89ms/step - loss: 4.1267 - accuracy: 0.0557 - val_loss: 4.6622 - val_accuracy: 0.0397\n",
      "Epoch 19/40\n",
      "953/953 [==============================] - 88s 92ms/step - loss: 4.1165 - accuracy: 0.0612 - val_loss: 4.3861 - val_accuracy: 0.0397\n",
      "Epoch 20/40\n",
      "953/953 [==============================] - 93s 97ms/step - loss: 4.0818 - accuracy: 0.0662 - val_loss: 4.3824 - val_accuracy: 0.0435\n",
      "Epoch 21/40\n",
      "953/953 [==============================] - 89s 93ms/step - loss: 4.0516 - accuracy: 0.0727 - val_loss: 4.5640 - val_accuracy: 0.0230\n",
      "Epoch 22/40\n",
      "953/953 [==============================] - 90s 94ms/step - loss: 4.0143 - accuracy: 0.0725 - val_loss: 4.7585 - val_accuracy: 0.0397\n",
      "Epoch 23/40\n",
      "953/953 [==============================] - 91s 95ms/step - loss: 3.9514 - accuracy: 0.0809 - val_loss: 4.5401 - val_accuracy: 0.0474\n",
      "Epoch 24/40\n",
      "953/953 [==============================] - 90s 94ms/step - loss: 3.9000 - accuracy: 0.0948 - val_loss: 4.5266 - val_accuracy: 0.0538\n",
      "Epoch 25/40\n",
      "953/953 [==============================] - 90s 94ms/step - loss: 3.8482 - accuracy: 0.0987 - val_loss: 4.7343 - val_accuracy: 0.0371\n",
      "Epoch 26/40\n",
      "953/953 [==============================] - 90s 95ms/step - loss: 3.7542 - accuracy: 0.1163 - val_loss: 4.4596 - val_accuracy: 0.0410\n",
      "Epoch 27/40\n",
      "953/953 [==============================] - 90s 94ms/step - loss: 3.6803 - accuracy: 0.1247 - val_loss: 4.2236 - val_accuracy: 0.0461\n",
      "Epoch 28/40\n",
      "953/953 [==============================] - 89s 93ms/step - loss: 3.6414 - accuracy: 0.1307 - val_loss: 4.3108 - val_accuracy: 0.0576\n",
      "Epoch 29/40\n",
      "953/953 [==============================] - 88s 92ms/step - loss: 3.4534 - accuracy: 0.1575 - val_loss: 4.3272 - val_accuracy: 0.0589\n",
      "Epoch 30/40\n",
      "953/953 [==============================] - 88s 93ms/step - loss: 3.3144 - accuracy: 0.1856 - val_loss: 4.7599 - val_accuracy: 0.0730\n",
      "Epoch 31/40\n",
      "953/953 [==============================] - 89s 93ms/step - loss: 3.1402 - accuracy: 0.2255 - val_loss: 5.2256 - val_accuracy: 0.0551\n",
      "Epoch 32/40\n",
      "953/953 [==============================] - 90s 95ms/step - loss: 2.9828 - accuracy: 0.2452 - val_loss: 4.8607 - val_accuracy: 0.0653\n",
      "Epoch 33/40\n",
      "953/953 [==============================] - 90s 94ms/step - loss: 2.7475 - accuracy: 0.3014 - val_loss: 5.3659 - val_accuracy: 0.0666\n",
      "Epoch 34/40\n",
      "953/953 [==============================] - 90s 94ms/step - loss: 2.4827 - accuracy: 0.3602 - val_loss: 5.7573 - val_accuracy: 0.0666\n",
      "Epoch 35/40\n",
      "953/953 [==============================] - 90s 95ms/step - loss: 2.2078 - accuracy: 0.4169 - val_loss: 6.5286 - val_accuracy: 0.0768\n",
      "Epoch 36/40\n",
      "953/953 [==============================] - 89s 93ms/step - loss: 1.9419 - accuracy: 0.4896 - val_loss: 7.0825 - val_accuracy: 0.0755\n",
      "Epoch 37/40\n",
      "953/953 [==============================] - 90s 95ms/step - loss: 1.6371 - accuracy: 0.5629 - val_loss: 7.2675 - val_accuracy: 0.0679\n",
      "Epoch 38/40\n",
      "953/953 [==============================] - 90s 94ms/step - loss: 1.3389 - accuracy: 0.6519 - val_loss: 7.3886 - val_accuracy: 0.0858\n",
      "Epoch 39/40\n",
      "953/953 [==============================] - 90s 94ms/step - loss: 1.0857 - accuracy: 0.7107 - val_loss: 7.3854 - val_accuracy: 0.0653\n",
      "Epoch 40/40\n",
      "953/953 [==============================] - 91s 95ms/step - loss: 0.8152 - accuracy: 0.7950 - val_loss: 8.7835 - val_accuracy: 0.0704\n"
     ]
    },
    {
     "data": {
      "text/plain": [
       "<keras.callbacks.History at 0x1bee898b910>"
      ]
     },
     "execution_count": 15,
     "metadata": {},
     "output_type": "execute_result"
    }
   ],
   "source": [
    "model.fit(train_gen, validation_data=val_gen, callbacks=[tensorboard_callback], epochs=40)"
   ]
  },
  {
   "cell_type": "code",
   "execution_count": 16,
   "metadata": {},
   "outputs": [
    {
     "name": "stdout",
     "output_type": "stream",
     "text": [
      "203/203 [==============================] - 11s 54ms/step - loss: 9.1675 - accuracy: 0.0790\n"
     ]
    },
    {
     "data": {
      "text/plain": [
       "[9.167513847351074, 0.07901234924793243]"
      ]
     },
     "execution_count": 16,
     "metadata": {},
     "output_type": "execute_result"
    }
   ],
   "source": [
    "model.evaluate(test_gen)"
   ]
  }
 ],
 "metadata": {
  "interpreter": {
   "hash": "1f584d1f2099a3b6b1aabed6fa6c4f9531bcc1f97f929a8d4f3fbf52265911e6"
  },
  "kernelspec": {
   "display_name": "Python 3.8.12 64-bit ('myenv': conda)",
   "name": "python3"
  },
  "language_info": {
   "codemirror_mode": {
    "name": "ipython",
    "version": 3
   },
   "file_extension": ".py",
   "mimetype": "text/x-python",
   "name": "python",
   "nbconvert_exporter": "python",
   "pygments_lexer": "ipython3",
   "version": "3.8.12"
  },
  "orig_nbformat": 2
 },
 "nbformat": 4,
 "nbformat_minor": 2
}
