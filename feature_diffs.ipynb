{
 "cells": [
  {
   "cell_type": "code",
   "execution_count": null,
   "metadata": {},
   "outputs": [],
   "source": [
    "from tensorflow import keras\n",
    "from tensorflow.keras.layers import *\n",
    "from prepare_data import *\n",
    "from tensorflow.keras.applications.inception_v3 import preprocess_input\n",
    "import matplotlib.pyplot as plt"
   ]
  },
  {
   "cell_type": "code",
   "execution_count": null,
   "metadata": {},
   "outputs": [],
   "source": [
    "dataset = Dataset.eighty\n",
    "dataset_name = str(dataset).split(\".\")[1]\n",
    "raw_train, raw_val = prep_data_single(dataset, 8)"
   ]
  },
  {
   "cell_type": "code",
   "execution_count": null,
   "metadata": {},
   "outputs": [],
   "source": [
    "standard_model_path = f\"models/{dataset_name}/{dataset_name.upper()}-EXTRACTOR/extractor/savefile.hdf5\"\n",
    "standard_extractor = keras.models.load_model(standard_model_path).layers[0].layers[-1]\n",
    "standard_extractor.trainable = False\n",
    "for layer in standard_extractor.layers:\n",
    "    layer._name += \"_1\"\n",
    "\n",
    "gray_model_path = f\"models/{dataset_name}/{dataset_name.upper()}-GRAY-EXTRACTOR/extractor/savefile.hdf5\"\n",
    "gray_extractor = keras.models.load_model(gray_model_path).layers[0].layers[-1]\n",
    "gray_extractor.trainable = False\n",
    "for layer in gray_extractor.layers:\n",
    "    layer._name += \"_2\"\n",
    "\n",
    "blur_model_path = f\"models/{dataset_name}/{dataset_name.upper()}-BLUR-EXTRACTOR/extractor/savefile.hdf5\"\n",
    "blur_extractor = keras.models.load_model(blur_model_path).layers[0].layers[-1]\n",
    "blur_extractor.trainable = False\n",
    "for layer in blur_extractor.layers:\n",
    "    layer._name += \"_3\"\n",
    "\n",
    "standard_model = keras.Model(inputs=standard_extractor.input, outputs=standard_extractor.layers[1].output)\n",
    "gray_model = keras.Model(inputs=gray_extractor.input, outputs=gray_extractor.layers[1].output)\n",
    "blur_model = keras.Model(inputs=blur_extractor.input, outputs=blur_extractor.layers[1].output)"
   ]
  },
  {
   "cell_type": "code",
   "execution_count": null,
   "metadata": {},
   "outputs": [],
   "source": [
    "img = preprocess_input(iter(raw_train).next()[0][0])\n",
    "\n",
    "standard_features = standard_model.predict(np.expand_dims(img, axis=0))\n",
    "blur_features = blur_model.predict(np.expand_dims(img, axis=0))\n",
    "gray_features = gray_model.predict(np.expand_dims(img, axis=0))\n",
    "features = []\n",
    "for i in range(32):\n",
    "    features.append(standard_features[0,:,:,i])\n",
    "    features.append(blur_features[0,:,:,i])\n",
    "    features.append(gray_features[0,:,:,i])\n",
    "\n",
    "names = ['standard', 'blur', 'gray']\n",
    "\n",
    "fig, ax = plt.subplots(8, 12)\n",
    "fig.set_size_inches(30, 20)\n",
    "for i in range(8):\n",
    "    for j in range(12):\n",
    "        ax[i,j].set_xticks([])\n",
    "        ax[i,j].set_yticks([])\n",
    "        ax[i,j].imshow(features[12*i+j], cmap='gray')\n",
    "        ax[i,j].title.set_text(f\"kernel {(12*i+j)//3}: {names[(12*i+j)%3]}\")"
   ]
  }
 ],
 "metadata": {
  "interpreter": {
   "hash": "71712620b39c8478d6b66abf91fe4af9cefe89c3e92ad617551777c66966135f"
  },
  "kernelspec": {
   "display_name": "Python 3.10.4 64-bit",
   "language": "python",
   "name": "python3"
  },
  "language_info": {
   "codemirror_mode": {
    "name": "ipython",
    "version": 3
   },
   "file_extension": ".py",
   "mimetype": "text/x-python",
   "name": "python",
   "nbconvert_exporter": "python",
   "pygments_lexer": "ipython3",
   "version": "3.10.4"
  },
  "orig_nbformat": 4
 },
 "nbformat": 4,
 "nbformat_minor": 2
}
