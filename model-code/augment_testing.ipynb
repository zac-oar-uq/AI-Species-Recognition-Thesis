{
 "cells": [
  {
   "cell_type": "code",
   "execution_count": null,
   "metadata": {},
   "outputs": [],
   "source": [
    "from tensorflow import keras\n",
    "from tensorflow.keras.layers import *\n",
    "from prepare_data import *\n",
    "import albumentations as A\n",
    "import tensorflow as tf"
   ]
  },
  {
   "cell_type": "code",
   "execution_count": null,
   "metadata": {},
   "outputs": [],
   "source": [
    "dataset = Dataset.carabid\n",
    "dataset_name = str(dataset).split(\".\")[1]\n",
    "raw_train, raw_val = prep_dataset(dataset, 8)"
   ]
  },
  {
   "cell_type": "markdown",
   "metadata": {},
   "source": [
    "Tests the classification accuracy of extractors trained with standard (un-augmented), blurred and greyed images on each of the three image types:"
   ]
  },
  {
   "cell_type": "code",
   "execution_count": null,
   "metadata": {},
   "outputs": [],
   "source": [
    "standard_model_path = f\"../model-saves/extractors/{dataset_name}/{dataset_name.upper()}-EXTRACTOR/extractor/savefile.hdf5\"\n",
    "standard_model = keras.models.load_model(standard_model_path)\n",
    "\n",
    "gray_model_path = f\"../model-saves/extractors/{dataset_name}/{dataset_name.upper()}-GRAY-EXTRACTOR/extractor/savefile.hdf5\"\n",
    "gray_model = keras.models.load_model(gray_model_path)\n",
    "\n",
    "blur_model_path = f\"../model-saves/extractors/{dataset_name}/{dataset_name.upper()}-BLUR-EXTRACTOR/extractor/savefile.hdf5\"\n",
    "blur_model = keras.models.load_model(blur_model_path)\n",
    "\n",
    "gray_aug = A.Compose([A.ToGray(p=1.0)])\n",
    "blur_aug = A.Compose([A.Blur(p=1.0)])\n",
    "\n",
    "def apply_aug_gray(images):\n",
    "    aug_imgs = []\n",
    "    for img in images:\n",
    "        aug_imgs.append(gray_aug(image=img)[\"image\"])\n",
    "    return np.array(aug_imgs)\n",
    "\n",
    "def apply_aug_blur(images):\n",
    "    aug_imgs = []\n",
    "    for img in images:\n",
    "        aug_imgs.append(blur_aug(image=img)[\"image\"])\n",
    "    return np.array(aug_imgs)\n",
    "\n",
    "def process_data_gray(images, labels):\n",
    "    aug_imgs = tf.numpy_function(apply_aug_gray, [images], tf.float32)\n",
    "    return aug_imgs, labels\n",
    "\n",
    "def process_data_blur(images, labels):\n",
    "    aug_imgs = tf.numpy_function(apply_aug_blur, [images], tf.float32)\n",
    "    return aug_imgs, labels\n",
    "\n",
    "standard_val = raw_val\n",
    "gray_val = raw_val.map(process_data_gray)\n",
    "blur_val = raw_val.map(process_data_blur)\n",
    "\n",
    "models = {\"standard\": standard_model, \"gray\": gray_model, \"blur\": blur_model}\n",
    "datasets = {\"standard\": standard_val, \"gray\": gray_val, \"blur\": blur_val}\n",
    "results = {}\n",
    "\n",
    "for m_name, m in models.items():\n",
    "    for d_name, d in datasets.items():\n",
    "        print(f\"Testing {d_name} dataset on {m_name} model:\")\n",
    "        results[(m_name, d_name)] = m.evaluate(d)\n",
    "\n",
    "print(results)"
   ]
  }
 ],
 "metadata": {
  "interpreter": {
   "hash": "d1ea28194a809bd3a64ba3a87b6ac05da64ff1233be85177613440de0ba72c6c"
  },
  "kernelspec": {
   "display_name": "Python 3.10.4 64-bit",
   "language": "python",
   "name": "python3"
  },
  "language_info": {
   "codemirror_mode": {
    "name": "ipython",
    "version": 3
   },
   "file_extension": ".py",
   "mimetype": "text/x-python",
   "name": "python",
   "nbconvert_exporter": "python",
   "pygments_lexer": "ipython3",
   "version": "3.10.4"
  },
  "orig_nbformat": 2
 },
 "nbformat": 4,
 "nbformat_minor": 2
}
