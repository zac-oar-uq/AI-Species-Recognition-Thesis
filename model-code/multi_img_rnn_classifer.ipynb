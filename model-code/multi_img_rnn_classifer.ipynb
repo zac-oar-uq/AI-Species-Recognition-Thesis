{
 "cells": [
  {
   "cell_type": "code",
   "execution_count": 1,
   "metadata": {},
   "outputs": [],
   "source": [
    "from tensorflow import keras\n",
    "from tensorflow.keras.layers import *\n",
    "from prepare_data import *\n",
    "from datetime import datetime\n",
    "import albumentations as A"
   ]
  },
  {
   "cell_type": "code",
   "execution_count": 2,
   "metadata": {},
   "outputs": [],
   "source": [
    "dataset = Dataset.eighty\n",
    "dataset_name = str(dataset).split(\".\")[1]\n",
    "current_time = datetime.now().strftime(\"%d%m%Y-%H%M%S\")"
   ]
  },
  {
   "cell_type": "code",
   "execution_count": 3,
   "metadata": {},
   "outputs": [
    {
     "name": "stdout",
     "output_type": "stream",
     "text": [
      "Found 27831 files belonging to 80 classes.\n",
      "Using 23657 files for training.\n",
      "Found 27831 files belonging to 80 classes.\n",
      "Using 4174 files for validation.\n"
     ]
    }
   ],
   "source": [
    "# prepare the train and val datasets to be used for training\n",
    "raw_train, raw_val = prep_dataset(dataset, 8)\n",
    "train_gen, val_gen = prep_multi_img_rnn_dataset(dataset, raw_train, raw_val, 8, 3)"
   ]
  },
  {
   "cell_type": "code",
   "execution_count": 4,
   "metadata": {},
   "outputs": [],
   "source": [
    "# load the saved inception extractor model and its weights\n",
    "extractor_model_path = f\"../model-saves/extractors/{dataset_name}/{dataset_name.upper()}-EXTRACTOR/extractor/savefile.hdf5\"\n",
    "feature_extractor = keras.models.load_model(extractor_model_path)\n",
    "inception_model = feature_extractor.layers[0].layers[-1]\n",
    "inception_model.trainable = False\n",
    "\n",
    "# build and compile the classifier model\n",
    "classifier_model = keras.Sequential([\n",
    "    InputLayer(input_shape=(None, 299, 299, 3)),\n",
    "    TimeDistributed(inception_model),\n",
    "    Bidirectional(LSTM(1000)),\n",
    "    Dropout(0.5),\n",
    "    Dense(1000, activation='relu'),\n",
    "    Dense(train_gen.num_classes(), activation='softmax')\n",
    "])\n",
    "classifier_model.compile(optimizer=keras.optimizers.Adam(learning_rate=0.00001), loss='sparse_categorical_crossentropy', metrics=['accuracy'])"
   ]
  },
  {
   "cell_type": "code",
   "execution_count": 5,
   "metadata": {},
   "outputs": [],
   "source": [
    "# log callback: saves info during training\n",
    "logdir = \"../logs/unfiltered/multi_img_rnn_{0}_{1}/classifier\".format(str(dataset), current_time)\n",
    "tensorboard_callback = keras.callbacks.TensorBoard(log_dir=logdir)\n",
    "\n",
    "# model callback: saves improved models during training\n",
    "model_path = \"../model-saves/unfiltered/multi_img_rnn_{0}_{1}/classifier/savefile.hdf5\".format(str(dataset), current_time)\n",
    "model_save_callback = keras.callbacks.ModelCheckpoint(filepath=model_path, save_best_only=True, monitor='val_accuracy', mode='max', verbose=1)"
   ]
  },
  {
   "cell_type": "code",
   "execution_count": 6,
   "metadata": {},
   "outputs": [],
   "source": [
    "# callback to shuffle the dataset after each epoch\n",
    "class ShuffleCallback(keras.callbacks.Callback):\n",
    "    def __init__(self, generator):\n",
    "        self._generator = generator\n",
    "        \n",
    "    def on_epoch_end(self, epoch, logs=None):\n",
    "        self._generator.shuffle()\n",
    "    \n",
    "train_shuffle_callback = ShuffleCallback(train_gen)\n",
    "val_shuffle_callback = ShuffleCallback(val_gen)"
   ]
  },
  {
   "cell_type": "code",
   "execution_count": 7,
   "metadata": {},
   "outputs": [
    {
     "name": "stdout",
     "output_type": "stream",
     "text": [
      "Epoch 1/20\n",
      "983/983 [==============================] - ETA: 0s - loss: 1.8079 - accuracy: 0.7002\n",
      "Epoch 1: val_accuracy improved from -inf to 0.88742, saving model to ../model-saves/unfiltered/multi_img_rnn_Dataset.eighty_17052022-180758/classifier\\savefile.hdf5\n",
      "983/983 [==============================] - 242s 229ms/step - loss: 1.8079 - accuracy: 0.7002 - val_loss: 0.5230 - val_accuracy: 0.8874\n",
      "Epoch 2/20\n",
      "983/983 [==============================] - ETA: 0s - loss: 0.3657 - accuracy: 0.9206\n",
      "Epoch 2: val_accuracy improved from 0.88742 to 0.93966, saving model to ../model-saves/unfiltered/multi_img_rnn_Dataset.eighty_17052022-180758/classifier\\savefile.hdf5\n",
      "983/983 [==============================] - 207s 210ms/step - loss: 0.3657 - accuracy: 0.9206 - val_loss: 0.1949 - val_accuracy: 0.9397\n",
      "Epoch 3/20\n",
      "983/983 [==============================] - ETA: 0s - loss: 0.1840 - accuracy: 0.9450\n",
      "Epoch 3: val_accuracy improved from 0.93966 to 0.94996, saving model to ../model-saves/unfiltered/multi_img_rnn_Dataset.eighty_17052022-180758/classifier\\savefile.hdf5\n",
      "983/983 [==============================] - 199s 203ms/step - loss: 0.1840 - accuracy: 0.9450 - val_loss: 0.1478 - val_accuracy: 0.9500\n",
      "Epoch 4/20\n",
      "983/983 [==============================] - ETA: 0s - loss: 0.1322 - accuracy: 0.9555\n",
      "Epoch 4: val_accuracy improved from 0.94996 to 0.95732, saving model to ../model-saves/unfiltered/multi_img_rnn_Dataset.eighty_17052022-180758/classifier\\savefile.hdf5\n",
      "983/983 [==============================] - 195s 199ms/step - loss: 0.1322 - accuracy: 0.9555 - val_loss: 0.1250 - val_accuracy: 0.9573\n",
      "Epoch 5/20\n",
      "983/983 [==============================] - ETA: 0s - loss: 0.1114 - accuracy: 0.9607\n",
      "Epoch 5: val_accuracy improved from 0.95732 to 0.96026, saving model to ../model-saves/unfiltered/multi_img_rnn_Dataset.eighty_17052022-180758/classifier\\savefile.hdf5\n",
      "983/983 [==============================] - 196s 200ms/step - loss: 0.1114 - accuracy: 0.9607 - val_loss: 0.1182 - val_accuracy: 0.9603\n",
      "Epoch 6/20\n",
      "983/983 [==============================] - ETA: 0s - loss: 0.1002 - accuracy: 0.9608\n",
      "Epoch 6: val_accuracy did not improve from 0.96026\n",
      "983/983 [==============================] - 194s 198ms/step - loss: 0.1002 - accuracy: 0.9608 - val_loss: 0.1227 - val_accuracy: 0.9603\n",
      "Epoch 7/20\n",
      "983/983 [==============================] - ETA: 0s - loss: 0.0979 - accuracy: 0.9623\n",
      "Epoch 7: val_accuracy did not improve from 0.96026\n",
      "983/983 [==============================] - 195s 199ms/step - loss: 0.0979 - accuracy: 0.9623 - val_loss: 0.1194 - val_accuracy: 0.9551\n",
      "Epoch 8/20\n",
      "983/983 [==============================] - ETA: 0s - loss: 0.0914 - accuracy: 0.9641\n",
      "Epoch 8: val_accuracy did not improve from 0.96026\n",
      "983/983 [==============================] - 195s 198ms/step - loss: 0.0914 - accuracy: 0.9641 - val_loss: 0.1217 - val_accuracy: 0.9558\n",
      "Epoch 9/20\n",
      "983/983 [==============================] - ETA: 0s - loss: 0.0862 - accuracy: 0.9650\n",
      "Epoch 9: val_accuracy did not improve from 0.96026\n",
      "983/983 [==============================] - 198s 202ms/step - loss: 0.0862 - accuracy: 0.9650 - val_loss: 0.1268 - val_accuracy: 0.9551\n",
      "Epoch 10/20\n",
      "983/983 [==============================] - ETA: 0s - loss: 0.0810 - accuracy: 0.9667\n",
      "Epoch 10: val_accuracy did not improve from 0.96026\n",
      "983/983 [==============================] - 196s 199ms/step - loss: 0.0810 - accuracy: 0.9667 - val_loss: 0.1159 - val_accuracy: 0.9558\n",
      "Epoch 11/20\n",
      "983/983 [==============================] - ETA: 0s - loss: 0.0754 - accuracy: 0.9698\n",
      "Epoch 11: val_accuracy did not improve from 0.96026\n",
      "983/983 [==============================] - 197s 200ms/step - loss: 0.0754 - accuracy: 0.9698 - val_loss: 0.1155 - val_accuracy: 0.9514\n",
      "Epoch 12/20\n",
      "983/983 [==============================] - ETA: 0s - loss: 0.0799 - accuracy: 0.9674\n",
      "Epoch 12: val_accuracy did not improve from 0.96026\n",
      "983/983 [==============================] - 195s 199ms/step - loss: 0.0799 - accuracy: 0.9674 - val_loss: 0.1139 - val_accuracy: 0.9507\n",
      "Epoch 13/20\n",
      "983/983 [==============================] - ETA: 0s - loss: 0.0780 - accuracy: 0.9667\n",
      "Epoch 13: val_accuracy did not improve from 0.96026\n",
      "983/983 [==============================] - 198s 202ms/step - loss: 0.0780 - accuracy: 0.9667 - val_loss: 0.1053 - val_accuracy: 0.9566\n",
      "Epoch 14/20\n",
      "983/983 [==============================] - ETA: 0s - loss: 0.0719 - accuracy: 0.9709\n",
      "Epoch 14: val_accuracy did not improve from 0.96026\n",
      "983/983 [==============================] - 196s 199ms/step - loss: 0.0719 - accuracy: 0.9709 - val_loss: 0.1422 - val_accuracy: 0.9485\n",
      "Epoch 15/20\n",
      "983/983 [==============================] - ETA: 0s - loss: 0.0736 - accuracy: 0.9698\n",
      "Epoch 15: val_accuracy did not improve from 0.96026\n",
      "983/983 [==============================] - 197s 200ms/step - loss: 0.0736 - accuracy: 0.9698 - val_loss: 0.1177 - val_accuracy: 0.9566\n",
      "Epoch 16/20\n",
      "983/983 [==============================] - ETA: 0s - loss: 0.0720 - accuracy: 0.9693\n",
      "Epoch 16: val_accuracy did not improve from 0.96026\n",
      "983/983 [==============================] - 196s 199ms/step - loss: 0.0720 - accuracy: 0.9693 - val_loss: 0.1220 - val_accuracy: 0.9551\n",
      "Epoch 17/20\n",
      "983/983 [==============================] - ETA: 0s - loss: 0.0744 - accuracy: 0.9695\n",
      "Epoch 17: val_accuracy did not improve from 0.96026\n",
      "983/983 [==============================] - 198s 201ms/step - loss: 0.0744 - accuracy: 0.9695 - val_loss: 0.1244 - val_accuracy: 0.9470\n",
      "Epoch 18/20\n",
      "983/983 [==============================] - ETA: 0s - loss: 0.0698 - accuracy: 0.9719\n",
      "Epoch 18: val_accuracy did not improve from 0.96026\n",
      "983/983 [==============================] - 196s 199ms/step - loss: 0.0698 - accuracy: 0.9719 - val_loss: 0.1232 - val_accuracy: 0.9492\n",
      "Epoch 19/20\n",
      "983/983 [==============================] - ETA: 0s - loss: 0.0631 - accuracy: 0.9721\n",
      "Epoch 19: val_accuracy did not improve from 0.96026\n",
      "983/983 [==============================] - 197s 201ms/step - loss: 0.0631 - accuracy: 0.9721 - val_loss: 0.1149 - val_accuracy: 0.9558\n",
      "Epoch 20/20\n",
      "983/983 [==============================] - ETA: 0s - loss: 0.0645 - accuracy: 0.9740\n",
      "Epoch 20: val_accuracy did not improve from 0.96026\n",
      "983/983 [==============================] - 196s 200ms/step - loss: 0.0645 - accuracy: 0.9740 - val_loss: 0.1209 - val_accuracy: 0.9522\n"
     ]
    },
    {
     "data": {
      "text/plain": [
       "<keras.callbacks.History at 0x2d5b048d420>"
      ]
     },
     "execution_count": 7,
     "metadata": {},
     "output_type": "execute_result"
    }
   ],
   "source": [
    "classifier_model.fit(train_gen, validation_data=val_gen, callbacks=[tensorboard_callback, model_save_callback, train_shuffle_callback, val_shuffle_callback], epochs=20)"
   ]
  }
 ],
 "metadata": {
  "interpreter": {
   "hash": "d1ea28194a809bd3a64ba3a87b6ac05da64ff1233be85177613440de0ba72c6c"
  },
  "kernelspec": {
   "display_name": "Python 3.10.4 64-bit",
   "language": "python",
   "name": "python3"
  },
  "language_info": {
   "codemirror_mode": {
    "name": "ipython",
    "version": 3
   },
   "file_extension": ".py",
   "mimetype": "text/x-python",
   "name": "python",
   "nbconvert_exporter": "python",
   "pygments_lexer": "ipython3",
   "version": "3.10.4"
  },
  "orig_nbformat": 2
 },
 "nbformat": 4,
 "nbformat_minor": 2
}
