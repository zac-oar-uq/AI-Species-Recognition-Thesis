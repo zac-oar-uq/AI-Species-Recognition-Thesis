{
 "cells": [
  {
   "cell_type": "code",
   "execution_count": 1,
   "metadata": {},
   "outputs": [],
   "source": [
    "from tensorflow import keras\n",
    "from tensorflow.keras.layers import *\n",
    "from prepare_data import *\n",
    "from datetime import datetime"
   ]
  },
  {
   "cell_type": "code",
   "execution_count": 2,
   "metadata": {},
   "outputs": [],
   "source": [
    "dataset = Dataset.eighty\n",
    "dataset_name = str(dataset).split(\".\")[1]\n",
    "current_time = datetime.now().strftime(\"%d%m%Y-%H%M%S\")"
   ]
  },
  {
   "cell_type": "code",
   "execution_count": 3,
   "metadata": {},
   "outputs": [
    {
     "name": "stdout",
     "output_type": "stream",
     "text": [
      "Found 27831 files belonging to 80 classes.\n",
      "Using 23657 files for training.\n",
      "Found 27831 files belonging to 80 classes.\n",
      "Using 4174 files for validation.\n"
     ]
    }
   ],
   "source": [
    "raw_train, raw_val = prep_dataset(dataset, 8)\n",
    "train_gen, val_gen = prep_ensemble_aug_dataset(dataset, raw_train, raw_val, 8)"
   ]
  },
  {
   "cell_type": "code",
   "execution_count": 4,
   "metadata": {},
   "outputs": [],
   "source": [
    "# load three extractors for the classifier: one standard, one trained on grey imgs, one trained on blurred imgs\n",
    "standard_model_path = f\"../model-saves/extractors/{dataset_name}/{dataset_name.upper()}-EXTRACTOR/extractor/savefile.hdf5\"\n",
    "standard_extractor = keras.models.load_model(standard_model_path).layers[0].layers[-1]\n",
    "standard_extractor.trainable = False\n",
    "for layer in standard_extractor.layers:\n",
    "    layer._name += \"_1\"\n",
    "\n",
    "gray_model_path = f\"../model-saves/extractors/{dataset_name}/{dataset_name.upper()}-GRAY-EXTRACTOR/extractor/savefile.hdf5\"\n",
    "gray_extractor = keras.models.load_model(gray_model_path).layers[0].layers[-1]\n",
    "gray_extractor.trainable = False\n",
    "for layer in gray_extractor.layers:\n",
    "    layer._name += \"_2\"\n",
    "\n",
    "blur_model_path = f\"../model-saves/extractors/{dataset_name}/{dataset_name.upper()}-BLUR-EXTRACTOR/extractor/savefile.hdf5\"\n",
    "blur_extractor = keras.models.load_model(blur_model_path).layers[0].layers[-1]\n",
    "blur_extractor.trainable = False\n",
    "for layer in blur_extractor.layers:\n",
    "    layer._name += \"_3\""
   ]
  },
  {
   "cell_type": "code",
   "execution_count": 5,
   "metadata": {},
   "outputs": [],
   "source": [
    "# pass extracted features to an RNN for classification\n",
    "concat_layer = concatenate([standard_extractor.output, gray_extractor.output, blur_extractor.output])\n",
    "reshape_layer = Reshape((3, 1000), input_shape=(3000,))(concat_layer)\n",
    "rnn_layer = Bidirectional(GRU(1000))(reshape_layer)\n",
    "dropout_layer = Dropout(0.5)(rnn_layer)\n",
    "dense_layer = Dense(1000, activation='relu')(dropout_layer)\n",
    "softmax = Dense(train_gen.num_classes(), activation='softmax')(dense_layer)"
   ]
  },
  {
   "cell_type": "code",
   "execution_count": 6,
   "metadata": {},
   "outputs": [],
   "source": [
    "classifier_model = keras.Model(inputs=[standard_extractor.input, gray_extractor.input, blur_extractor.input], outputs=softmax)\n",
    "classifier_model.compile(optimizer=keras.optimizers.Adam(learning_rate=0.00001), loss='sparse_categorical_crossentropy', metrics=['accuracy'])"
   ]
  },
  {
   "cell_type": "code",
   "execution_count": 7,
   "metadata": {},
   "outputs": [],
   "source": [
    "# callbacks to save the logs and model each epoch\n",
    "logdir = \"../logs/unfiltered/ensemble_aug_{0}_{1}/classifier\".format(str(dataset), current_time)\n",
    "tensorboard_callback = keras.callbacks.TensorBoard(log_dir=logdir)\n",
    "\n",
    "model_path = \"../model-saves/unfiltered/ensemble_aug_{0}_{1}/classifier/savefile.hdf5\".format(str(dataset), current_time)\n",
    "model_save_callback = keras.callbacks.ModelCheckpoint(filepath=model_path, save_best_only=True, monitor='val_accuracy', mode='max', verbose=1)"
   ]
  },
  {
   "cell_type": "code",
   "execution_count": 8,
   "metadata": {},
   "outputs": [],
   "source": [
    "# callback to shuffle the dataset each epoch\n",
    "class ShuffleCallback(keras.callbacks.Callback):\n",
    "    def __init__(self, generator):\n",
    "        self._generator = generator\n",
    "        \n",
    "    def on_epoch_end(self, epoch, logs=None):\n",
    "        self._generator.shuffle()\n",
    "    \n",
    "train_shuffle_callback = ShuffleCallback(train_gen)\n",
    "val_shuffle_callback = ShuffleCallback(val_gen)"
   ]
  },
  {
   "cell_type": "code",
   "execution_count": 9,
   "metadata": {},
   "outputs": [
    {
     "name": "stdout",
     "output_type": "stream",
     "text": [
      "Epoch 1/10\n",
      "2958/2958 [==============================] - ETA: 0s - loss: 1.1047 - accuracy: 0.7582\n",
      "Epoch 1: val_accuracy improved from -inf to 0.84499, saving model to ../model-saves/unfiltered/ensemble_aug_Dataset.eighty_20052022-151216/classifier\\savefile.hdf5\n",
      "2958/2958 [==============================] - 367s 118ms/step - loss: 1.1047 - accuracy: 0.7582 - val_loss: 0.4958 - val_accuracy: 0.8450\n",
      "Epoch 2/10\n",
      "2958/2958 [==============================] - ETA: 0s - loss: 0.3700 - accuracy: 0.8780\n",
      "Epoch 2: val_accuracy improved from 0.84499 to 0.84931, saving model to ../model-saves/unfiltered/ensemble_aug_Dataset.eighty_20052022-151216/classifier\\savefile.hdf5\n",
      "2958/2958 [==============================] - 331s 112ms/step - loss: 0.3700 - accuracy: 0.8780 - val_loss: 0.4462 - val_accuracy: 0.8493\n",
      "Epoch 3/10\n",
      "2958/2958 [==============================] - ETA: 0s - loss: 0.3063 - accuracy: 0.8904\n",
      "Epoch 3: val_accuracy did not improve from 0.84931\n",
      "2958/2958 [==============================] - 335s 113ms/step - loss: 0.3063 - accuracy: 0.8904 - val_loss: 0.4397 - val_accuracy: 0.8493\n",
      "Epoch 4/10\n",
      "2958/2958 [==============================] - ETA: 0s - loss: 0.2692 - accuracy: 0.8998\n",
      "Epoch 4: val_accuracy did not improve from 0.84931\n",
      "2958/2958 [==============================] - 329s 111ms/step - loss: 0.2692 - accuracy: 0.8998 - val_loss: 0.4429 - val_accuracy: 0.8455\n",
      "Epoch 5/10\n",
      "2958/2958 [==============================] - ETA: 0s - loss: 0.2461 - accuracy: 0.9067\n",
      "Epoch 5: val_accuracy did not improve from 0.84931\n",
      "2958/2958 [==============================] - 337s 114ms/step - loss: 0.2461 - accuracy: 0.9067 - val_loss: 0.4451 - val_accuracy: 0.8488\n",
      "Epoch 6/10\n",
      "2958/2958 [==============================] - ETA: 0s - loss: 0.2293 - accuracy: 0.9108\n",
      "Epoch 6: val_accuracy did not improve from 0.84931\n",
      "2958/2958 [==============================] - 332s 112ms/step - loss: 0.2293 - accuracy: 0.9108 - val_loss: 0.4416 - val_accuracy: 0.8481\n",
      "Epoch 7/10\n",
      "2958/2958 [==============================] - ETA: 0s - loss: 0.2128 - accuracy: 0.9161\n",
      "Epoch 7: val_accuracy did not improve from 0.84931\n",
      "2958/2958 [==============================] - 335s 113ms/step - loss: 0.2128 - accuracy: 0.9161 - val_loss: 0.4602 - val_accuracy: 0.8455\n",
      "Epoch 8/10\n",
      "2958/2958 [==============================] - ETA: 0s - loss: 0.1992 - accuracy: 0.9199\n",
      "Epoch 8: val_accuracy did not improve from 0.84931\n",
      "2958/2958 [==============================] - 335s 113ms/step - loss: 0.1992 - accuracy: 0.9199 - val_loss: 0.4621 - val_accuracy: 0.8457\n",
      "Epoch 9/10\n",
      "2958/2958 [==============================] - ETA: 0s - loss: 0.1886 - accuracy: 0.9243\n",
      "Epoch 9: val_accuracy did not improve from 0.84931\n",
      "2958/2958 [==============================] - 337s 114ms/step - loss: 0.1886 - accuracy: 0.9243 - val_loss: 0.4679 - val_accuracy: 0.8392\n",
      "Epoch 10/10\n",
      "2958/2958 [==============================] - ETA: 0s - loss: 0.1789 - accuracy: 0.9259\n",
      "Epoch 10: val_accuracy did not improve from 0.84931\n",
      "2958/2958 [==============================] - 340s 115ms/step - loss: 0.1789 - accuracy: 0.9259 - val_loss: 0.4842 - val_accuracy: 0.8392\n"
     ]
    },
    {
     "data": {
      "text/plain": [
       "<keras.callbacks.History at 0x218044aedd0>"
      ]
     },
     "execution_count": 9,
     "metadata": {},
     "output_type": "execute_result"
    }
   ],
   "source": [
    "classifier_model.fit(train_gen, validation_data=val_gen, callbacks=[tensorboard_callback, model_save_callback, train_shuffle_callback, val_shuffle_callback], epochs=10)"
   ]
  }
 ],
 "metadata": {
  "interpreter": {
   "hash": "d1ea28194a809bd3a64ba3a87b6ac05da64ff1233be85177613440de0ba72c6c"
  },
  "kernelspec": {
   "display_name": "Python 3.10.4 64-bit",
   "language": "python",
   "name": "python3"
  },
  "language_info": {
   "codemirror_mode": {
    "name": "ipython",
    "version": 3
   },
   "file_extension": ".py",
   "mimetype": "text/x-python",
   "name": "python",
   "nbconvert_exporter": "python",
   "pygments_lexer": "ipython3",
   "version": "3.10.4"
  },
  "orig_nbformat": 2
 },
 "nbformat": 4,
 "nbformat_minor": 2
}
