{
 "cells": [
  {
   "cell_type": "code",
   "execution_count": 1,
   "metadata": {},
   "outputs": [],
   "source": [
    "from tensorflow import keras\n",
    "from tensorflow.keras.layers import *\n",
    "from prepare_data import *\n",
    "from datetime import datetime"
   ]
  },
  {
   "cell_type": "code",
   "execution_count": 1,
   "metadata": {},
   "outputs": [
    {
     "name": "stdout",
     "output_type": "stream",
     "text": [
      "2.8.0\n",
      "1.22.3\n",
      "1.1.0\n"
     ]
    }
   ],
   "source": [
    "import tensorflow as tf\n",
    "import numpy as np\n",
    "import albumentations as A\n",
    "\n",
    "print(tf.__version__)\n",
    "print(np.__version__)\n",
    "print(A.__version__)"
   ]
  },
  {
   "cell_type": "code",
   "execution_count": 2,
   "metadata": {},
   "outputs": [],
   "source": [
    "dataset = Dataset.eighty\n",
    "dataset_name = str(dataset).split(\".\")[1]\n",
    "current_time = datetime.now().strftime(\"%d%m%Y-%H%M%S\")"
   ]
  },
  {
   "cell_type": "code",
   "execution_count": 3,
   "metadata": {},
   "outputs": [
    {
     "name": "stdout",
     "output_type": "stream",
     "text": [
      "Found 27831 files belonging to 80 classes.\n",
      "Using 23657 files for training.\n",
      "Found 27831 files belonging to 80 classes.\n",
      "Using 4174 files for validation.\n"
     ]
    }
   ],
   "source": [
    "raw_train, raw_val = prep_dataset(dataset, 8)\n",
    "train_gen, val_gen = prep_multi_img_ensemble_dataset(dataset, raw_train, raw_val, 8, 3)"
   ]
  },
  {
   "cell_type": "code",
   "execution_count": 4,
   "metadata": {},
   "outputs": [],
   "source": [
    "extractor_path = f\"../model-saves/extractors/{dataset_name}/{dataset_name.upper()}-EXTRACTOR/extractor/savefile.hdf5\"\n",
    "extractor1 = keras.models.load_model(extractor_path).layers[0].layers[-1]\n",
    "extractor1.trainable = True\n",
    "for layer in extractor1.layers:\n",
    "    layer._name += \"_1\"\n",
    "\n",
    "extractor2 = keras.models.load_model(extractor_path).layers[0].layers[-1]\n",
    "extractor2.trainable = False\n",
    "for layer in extractor2.layers:\n",
    "    layer._name += \"_2\"\n",
    "\n",
    "extractor3 = keras.models.load_model(extractor_path).layers[0].layers[-1]\n",
    "extractor3.trainable = False\n",
    "for layer in extractor3.layers:\n",
    "    layer._name += \"_3\""
   ]
  },
  {
   "cell_type": "code",
   "execution_count": 5,
   "metadata": {},
   "outputs": [],
   "source": [
    "concat_layer = keras.layers.concatenate([extractor1.output, extractor2.output, extractor3.output])\n",
    "dropout_layer = Dropout(0.5)(concat_layer)\n",
    "dense_layer = Dense(1000, activation='relu')(dropout_layer)\n",
    "predictions = keras.layers.Dense(train_gen.num_classes(), activation='softmax')(dense_layer)"
   ]
  },
  {
   "cell_type": "code",
   "execution_count": 6,
   "metadata": {},
   "outputs": [],
   "source": [
    "classifier_model = keras.Model(inputs=[extractor1.input, extractor2.input, extractor3.input], outputs=predictions)\n",
    "classifier_model.compile(optimizer=keras.optimizers.Adam(learning_rate=0.00001), loss='sparse_categorical_crossentropy', metrics=['accuracy'])"
   ]
  },
  {
   "cell_type": "code",
   "execution_count": 7,
   "metadata": {},
   "outputs": [],
   "source": [
    "logdir = \"../logs/unfiltered/3_img_ensemble_{0}_{1}/classifier\".format(str(dataset), current_time)\n",
    "tensorboard_callback = keras.callbacks.TensorBoard(log_dir=logdir)\n",
    "\n",
    "model_path = \"../model-saves/unfiltered/3_img_ensemble_{0}_{1}/classifier/savefile.hdf5\".format(str(dataset), current_time)\n",
    "model_save_callback = keras.callbacks.ModelCheckpoint(filepath=model_path, save_best_only=True, monitor='val_accuracy', mode='max', verbose=1)"
   ]
  },
  {
   "cell_type": "code",
   "execution_count": 8,
   "metadata": {},
   "outputs": [],
   "source": [
    "class ShuffleCallback(keras.callbacks.Callback):\n",
    "    def __init__(self, generator):\n",
    "        self._generator = generator\n",
    "        \n",
    "    def on_epoch_end(self, epoch, logs=None):\n",
    "        self._generator.shuffle()\n",
    "    \n",
    "train_shuffle_callback = ShuffleCallback(train_gen)\n",
    "val_shuffle_callback = ShuffleCallback(val_gen)"
   ]
  },
  {
   "cell_type": "code",
   "execution_count": 9,
   "metadata": {},
   "outputs": [
    {
     "name": "stdout",
     "output_type": "stream",
     "text": [
      "Epoch 1/20\n",
      "983/983 [==============================] - ETA: 0s - loss: 2.2244 - accuracy: 0.5193\n",
      "Epoch 1: val_accuracy improved from -inf to 0.86755, saving model to ../model-saves/unfiltered/3_img_ensemble_Dataset.eighty_15052022-200138/classifier\\savefile.hdf5\n",
      "983/983 [==============================] - 254s 240ms/step - loss: 2.2244 - accuracy: 0.5193 - val_loss: 0.4895 - val_accuracy: 0.8675\n",
      "Epoch 2/20\n",
      "983/983 [==============================] - ETA: 0s - loss: 0.5963 - accuracy: 0.8360\n",
      "Epoch 2: val_accuracy improved from 0.86755 to 0.91023, saving model to ../model-saves/unfiltered/3_img_ensemble_Dataset.eighty_15052022-200138/classifier\\savefile.hdf5\n",
      "983/983 [==============================] - 222s 225ms/step - loss: 0.5963 - accuracy: 0.8360 - val_loss: 0.2438 - val_accuracy: 0.9102\n",
      "Epoch 3/20\n",
      "983/983 [==============================] - ETA: 0s - loss: 0.3468 - accuracy: 0.8976\n",
      "Epoch 3: val_accuracy improved from 0.91023 to 0.93157, saving model to ../model-saves/unfiltered/3_img_ensemble_Dataset.eighty_15052022-200138/classifier\\savefile.hdf5\n",
      "983/983 [==============================] - 215s 218ms/step - loss: 0.3468 - accuracy: 0.8976 - val_loss: 0.2007 - val_accuracy: 0.9316\n",
      "Epoch 4/20\n",
      "983/983 [==============================] - ETA: 0s - loss: 0.2542 - accuracy: 0.9150\n",
      "Epoch 4: val_accuracy improved from 0.93157 to 0.93525, saving model to ../model-saves/unfiltered/3_img_ensemble_Dataset.eighty_15052022-200138/classifier\\savefile.hdf5\n",
      "983/983 [==============================] - 217s 220ms/step - loss: 0.2542 - accuracy: 0.9150 - val_loss: 0.1732 - val_accuracy: 0.9352\n",
      "Epoch 5/20\n",
      "983/983 [==============================] - ETA: 0s - loss: 0.2132 - accuracy: 0.9282\n",
      "Epoch 5: val_accuracy improved from 0.93525 to 0.94408, saving model to ../model-saves/unfiltered/3_img_ensemble_Dataset.eighty_15052022-200138/classifier\\savefile.hdf5\n",
      "983/983 [==============================] - 214s 217ms/step - loss: 0.2132 - accuracy: 0.9282 - val_loss: 0.1322 - val_accuracy: 0.9441\n",
      "Epoch 6/20\n",
      "983/983 [==============================] - ETA: 0s - loss: 0.1843 - accuracy: 0.9368\n",
      "Epoch 6: val_accuracy improved from 0.94408 to 0.94481, saving model to ../model-saves/unfiltered/3_img_ensemble_Dataset.eighty_15052022-200138/classifier\\savefile.hdf5\n",
      "983/983 [==============================] - 216s 220ms/step - loss: 0.1843 - accuracy: 0.9368 - val_loss: 0.1489 - val_accuracy: 0.9448\n",
      "Epoch 7/20\n",
      "983/983 [==============================] - ETA: 0s - loss: 0.1795 - accuracy: 0.9384\n",
      "Epoch 7: val_accuracy improved from 0.94481 to 0.94702, saving model to ../model-saves/unfiltered/3_img_ensemble_Dataset.eighty_15052022-200138/classifier\\savefile.hdf5\n",
      "983/983 [==============================] - 216s 220ms/step - loss: 0.1795 - accuracy: 0.9384 - val_loss: 0.1509 - val_accuracy: 0.9470\n",
      "Epoch 8/20\n",
      "983/983 [==============================] - ETA: 0s - loss: 0.1588 - accuracy: 0.9430\n",
      "Epoch 8: val_accuracy did not improve from 0.94702\n",
      "983/983 [==============================] - 214s 218ms/step - loss: 0.1588 - accuracy: 0.9430 - val_loss: 0.1424 - val_accuracy: 0.9463\n",
      "Epoch 9/20\n",
      "983/983 [==============================] - ETA: 0s - loss: 0.1434 - accuracy: 0.9486\n",
      "Epoch 9: val_accuracy improved from 0.94702 to 0.95364, saving model to ../model-saves/unfiltered/3_img_ensemble_Dataset.eighty_15052022-200138/classifier\\savefile.hdf5\n",
      "983/983 [==============================] - 212s 215ms/step - loss: 0.1434 - accuracy: 0.9486 - val_loss: 0.1394 - val_accuracy: 0.9536\n",
      "Epoch 10/20\n",
      "983/983 [==============================] - ETA: 0s - loss: 0.1300 - accuracy: 0.9504\n",
      "Epoch 10: val_accuracy did not improve from 0.95364\n",
      "983/983 [==============================] - 217s 221ms/step - loss: 0.1300 - accuracy: 0.9504 - val_loss: 0.1616 - val_accuracy: 0.9375\n",
      "Epoch 11/20\n",
      "983/983 [==============================] - ETA: 0s - loss: 0.1271 - accuracy: 0.9537\n",
      "Epoch 11: val_accuracy did not improve from 0.95364\n",
      "983/983 [==============================] - 209s 213ms/step - loss: 0.1271 - accuracy: 0.9537 - val_loss: 0.1394 - val_accuracy: 0.9463\n",
      "Epoch 12/20\n",
      "983/983 [==============================] - ETA: 0s - loss: 0.1243 - accuracy: 0.9551\n",
      "Epoch 12: val_accuracy did not improve from 0.95364\n",
      "983/983 [==============================] - 209s 213ms/step - loss: 0.1243 - accuracy: 0.9551 - val_loss: 0.1428 - val_accuracy: 0.9507\n",
      "Epoch 13/20\n",
      "983/983 [==============================] - ETA: 0s - loss: 0.1247 - accuracy: 0.9546\n",
      "Epoch 13: val_accuracy did not improve from 0.95364\n",
      "983/983 [==============================] - 210s 214ms/step - loss: 0.1247 - accuracy: 0.9546 - val_loss: 0.1431 - val_accuracy: 0.9470\n",
      "Epoch 14/20\n",
      "983/983 [==============================] - ETA: 0s - loss: 0.1173 - accuracy: 0.9553\n",
      "Epoch 14: val_accuracy did not improve from 0.95364\n",
      "983/983 [==============================] - 212s 215ms/step - loss: 0.1173 - accuracy: 0.9553 - val_loss: 0.1418 - val_accuracy: 0.9441\n",
      "Epoch 15/20\n",
      "983/983 [==============================] - ETA: 0s - loss: 0.1086 - accuracy: 0.9607\n",
      "Epoch 15: val_accuracy did not improve from 0.95364\n",
      "983/983 [==============================] - 209s 212ms/step - loss: 0.1086 - accuracy: 0.9607 - val_loss: 0.1350 - val_accuracy: 0.9529\n",
      "Epoch 16/20\n",
      "983/983 [==============================] - ETA: 0s - loss: 0.1077 - accuracy: 0.9614\n",
      "Epoch 16: val_accuracy did not improve from 0.95364\n",
      "983/983 [==============================] - 209s 212ms/step - loss: 0.1077 - accuracy: 0.9614 - val_loss: 0.1503 - val_accuracy: 0.9433\n",
      "Epoch 17/20\n",
      "983/983 [==============================] - ETA: 0s - loss: 0.1033 - accuracy: 0.9589\n",
      "Epoch 17: val_accuracy did not improve from 0.95364\n",
      "983/983 [==============================] - 209s 213ms/step - loss: 0.1033 - accuracy: 0.9589 - val_loss: 0.1699 - val_accuracy: 0.9411\n",
      "Epoch 18/20\n",
      "983/983 [==============================] - ETA: 0s - loss: 0.1095 - accuracy: 0.9584\n",
      "Epoch 18: val_accuracy did not improve from 0.95364\n",
      "983/983 [==============================] - 209s 212ms/step - loss: 0.1095 - accuracy: 0.9584 - val_loss: 0.1655 - val_accuracy: 0.9463\n",
      "Epoch 19/20\n",
      "983/983 [==============================] - ETA: 0s - loss: 0.0927 - accuracy: 0.9645\n",
      "Epoch 19: val_accuracy did not improve from 0.95364\n",
      "983/983 [==============================] - 209s 212ms/step - loss: 0.0927 - accuracy: 0.9645 - val_loss: 0.1624 - val_accuracy: 0.9419\n",
      "Epoch 20/20\n",
      "983/983 [==============================] - ETA: 0s - loss: 0.1021 - accuracy: 0.9636\n",
      "Epoch 20: val_accuracy did not improve from 0.95364\n",
      "983/983 [==============================] - 209s 213ms/step - loss: 0.1021 - accuracy: 0.9636 - val_loss: 0.1682 - val_accuracy: 0.9433\n"
     ]
    },
    {
     "data": {
      "text/plain": [
       "<keras.callbacks.History at 0x188e71f8f70>"
      ]
     },
     "execution_count": 9,
     "metadata": {},
     "output_type": "execute_result"
    }
   ],
   "source": [
    "classifier_model.fit(train_gen, validation_data=val_gen, callbacks=[tensorboard_callback, model_save_callback, train_shuffle_callback, val_shuffle_callback], epochs=20)"
   ]
  }
 ],
 "metadata": {
  "interpreter": {
   "hash": "d1ea28194a809bd3a64ba3a87b6ac05da64ff1233be85177613440de0ba72c6c"
  },
  "kernelspec": {
   "display_name": "Python 3.10.4 64-bit",
   "language": "python",
   "name": "python3"
  },
  "language_info": {
   "codemirror_mode": {
    "name": "ipython",
    "version": 3
   },
   "file_extension": ".py",
   "mimetype": "text/x-python",
   "name": "python",
   "nbconvert_exporter": "python",
   "pygments_lexer": "ipython3",
   "version": "3.10.4"
  },
  "orig_nbformat": 2
 },
 "nbformat": 4,
 "nbformat_minor": 2
}
