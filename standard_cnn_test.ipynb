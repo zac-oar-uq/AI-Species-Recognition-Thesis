{
 "metadata": {
  "language_info": {
   "codemirror_mode": {
    "name": "ipython",
    "version": 3
   },
   "file_extension": ".py",
   "mimetype": "text/x-python",
   "name": "python",
   "nbconvert_exporter": "python",
   "pygments_lexer": "ipython3",
   "version": "3.7.9"
  },
  "orig_nbformat": 2,
  "kernelspec": {
   "name": "python3",
   "display_name": "Python 3.7.9 64-bit ('myenv': conda)"
  },
  "interpreter": {
   "hash": "d82380b4268699ddf023b61d521e7fd1c6101c2e6b2a8dafc654ceb98eb585a7"
  }
 },
 "nbformat": 4,
 "nbformat_minor": 2,
 "cells": [
  {
   "cell_type": "code",
   "execution_count": 70,
   "source": [
    "from PIL import Image\r\n",
    "from sklearn.model_selection import train_test_split\r\n",
    "from tensorflow import keras\r\n",
    "import numpy as np\r\n",
    "from os import listdir\r\n",
    "from os.path import isfile, join\r\n",
    "import math"
   ],
   "outputs": [],
   "metadata": {}
  },
  {
   "cell_type": "code",
   "execution_count": 71,
   "source": [
    "class SequenceGenerator(keras.utils.Sequence):\r\n",
    "    \"\"\"\r\n",
    "    A keras Sequence to be used as an image generator for the model.\r\n",
    "    \"\"\"\r\n",
    "\r\n",
    "    def __init__(self, x, y, batchsize):\r\n",
    "        self.x, self.y, self.batchsize = x, y, batchsize\r\n",
    "\r\n",
    "    def __len__(self):\r\n",
    "        return math.ceil(len(self.x) / self.batchsize)\r\n",
    "\r\n",
    "    def __getitem__(self, idx):\r\n",
    "        x_names = self.x[idx * self.batchsize:(idx + 1) * self.batchsize]\r\n",
    "        y_names = np.asarray(self.y[idx * self.batchsize:(idx + 1) * self.batchsize])\r\n",
    "        \r\n",
    "        # open x image names, resize, normalise and make a numpy array\r\n",
    "        batch_x = np.array([np.asarray(Image.open(file_name).resize((224, 224))) for file_name in x_names]) / 255.0\r\n",
    "\r\n",
    "        return batch_x, y_names\r\n",
    "\r\n",
    "    def num_classes(self):\r\n",
    "        ret = []\r\n",
    "        for cat in self.y:\r\n",
    "            if cat not in ret:\r\n",
    "                ret.append(cat)\r\n",
    "        return len(ret)"
   ],
   "outputs": [],
   "metadata": {}
  },
  {
   "cell_type": "code",
   "execution_count": 72,
   "source": [
    "def get_filenames_from_dir(directory, num_categories=1000):\r\n",
    "    x = []\r\n",
    "    y = []\r\n",
    "    category_count = 0\r\n",
    "    for category in listdir(directory):\r\n",
    "        for file in listdir(\"{0}/{1}\".format(directory, category)):\r\n",
    "            x.append(\"{0}/{1}/{2}\".format(directory, category, file))\r\n",
    "            y.append(category_count)\r\n",
    "        category_count += 1\r\n",
    "        if category_count == num_categories:\r\n",
    "            break\r\n",
    "\r\n",
    "    return x, y"
   ],
   "outputs": [],
   "metadata": {}
  },
  {
   "cell_type": "code",
   "execution_count": 73,
   "source": [
    "# makes arrays of the images and label names\r\n",
    "x_names, y_names = get_filenames_from_dir(\"database\", 50)\r\n",
    "\r\n",
    "# 15% of all the images are set aside as the test set\r\n",
    "x_train_val, x_test, y_train_val, y_test = train_test_split(x_names, y_names, test_size=0.15, random_state=42)\r\n",
    "\r\n",
    "# 17% of the non-test images are set aside as the validation set\r\n",
    "x_train, x_val, y_train, y_val = train_test_split(x_train_val, y_train_val, test_size=0.17, random_state=42)"
   ],
   "outputs": [],
   "metadata": {}
  },
  {
   "cell_type": "code",
   "execution_count": 74,
   "source": [
    "# make generators with batch size 16 for each set\r\n",
    "train_gen = SequenceGenerator(x_train, y_train, 16)\r\n",
    "val_gen = SequenceGenerator(x_val, y_val, 16)\r\n",
    "test_gen = SequenceGenerator(x_test, y_test, 16)"
   ],
   "outputs": [],
   "metadata": {}
  },
  {
   "cell_type": "code",
   "execution_count": 75,
   "source": [
    "model = keras.models.Sequential([keras.layers.Conv2D(64, 3, activation='relu'),\r\n",
    "                                keras.layers.Conv2D(64, 3, activation='relu'), \r\n",
    "                                keras.layers.GlobalAveragePooling2D(), \r\n",
    "                                keras.layers.Dense(1024, activation='relu'), \r\n",
    "                                keras.layers.Dense(1024, activation='relu'), \r\n",
    "                                keras.layers.Dense(512, activation='relu'), \r\n",
    "                                keras.layers.Dense(train_gen.num_classes(), activation='softmax')])\r\n",
    "\r\n",
    "model.compile(optimizer='adam', loss='sparse_categorical_crossentropy', metrics=['accuracy'])"
   ],
   "outputs": [],
   "metadata": {}
  },
  {
   "cell_type": "code",
   "execution_count": 76,
   "source": [
    "model.fit(train_gen, validation_data=val_gen, epochs=5)"
   ],
   "outputs": [
    {
     "output_type": "stream",
     "name": "stdout",
     "text": [
      "WARNING:tensorflow:sample_weight modes were coerced from\n",
      "  ...\n",
      "    to  \n",
      "  ['...']\n",
      "Train for 605 steps, validate for 124 steps\n",
      "Epoch 1/5\n",
      "476/605 [======================>.......] - ETA: 22s - loss: 3.7437 - accuracy: 0.0560"
     ]
    }
   ],
   "metadata": {}
  },
  {
   "cell_type": "code",
   "execution_count": null,
   "source": [
    "model.evaluate(test_gen)"
   ],
   "outputs": [
    {
     "output_type": "stream",
     "name": "stdout",
     "text": [
      "WARNING:tensorflow:sample_weight modes were coerced from\n",
      "  ...\n",
      "    to  \n",
      "  ['...']\n",
      "129/129 [==============================] - 24s 188ms/step - loss: 3.7637 - accuracy: 0.1463\n"
     ]
    },
    {
     "output_type": "execute_result",
     "data": {
      "text/plain": [
       "[3.7636766489162, 0.1462585]"
      ]
     },
     "metadata": {},
     "execution_count": 30
    }
   ],
   "metadata": {}
  }
 ]
}