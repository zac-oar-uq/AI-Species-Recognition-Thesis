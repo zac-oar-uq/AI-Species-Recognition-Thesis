{
 "cells": [
  {
   "cell_type": "code",
   "execution_count": 2,
   "metadata": {},
   "outputs": [],
   "source": [
    "from tensorflow.keras.applications import InceptionV3\n",
    "from tensorflow.keras.applications.inception_v3 import preprocess_input\n",
    "from tensorflow.keras.preprocessing.image import load_img, img_to_array\n",
    "from sklearn.model_selection import train_test_split\n",
    "from tensorflow import keras\n",
    "import matplotlib.pyplot as plt\n",
    "import matplotlib.image as img\n",
    "import numpy as np\n",
    "from os import listdir\n",
    "from os.path import isfile\n",
    "import math\n",
    "from prepare_data import *\n",
    "\n",
    "from datetime import datetime\n",
    "%load_ext tensorboard"
   ]
  },
  {
   "cell_type": "code",
   "execution_count": 3,
   "metadata": {},
   "outputs": [
    {
     "name": "stdout",
     "output_type": "stream",
     "text": [
      "Dataset.ninety\n"
     ]
    }
   ],
   "source": [
    "dataset = Dataset.ninety\n",
    "train_gen, val_gen, test_gen = prep_data(dataset, True, 4)"
   ]
  },
  {
   "cell_type": "code",
   "execution_count": 15,
   "metadata": {},
   "outputs": [],
   "source": [
    "# Model 1\n",
    "base_model1 = InceptionV3(weights=\"imagenet\")\n",
    "for layer in base_model1.layers:\n",
    "    layer._name += \"_1\"\n",
    "    layer.trainable = True\n",
    "\n",
    "# Model 2\n",
    "base_model2 = InceptionV3(weights=\"imagenet\")\n",
    "for layer in base_model2.layers:\n",
    "    layer._name += \"_2\"\n",
    "    layer.trainable = True\n",
    "\n",
    "# Model 3\n",
    "base_model3 = InceptionV3(weights=\"imagenet\")\n",
    "for layer in base_model3.layers:\n",
    "    layer._name += \"_3\"\n",
    "    layer.trainable = True"
   ]
  },
  {
   "cell_type": "code",
   "execution_count": 16,
   "metadata": {},
   "outputs": [],
   "source": [
    "out_layer = keras.layers.concatenate([base_model1.layers[-2].output, base_model2.layers[-2].output, base_model3.layers[-2].output])\n",
    "predictions = keras.layers.Dense(291, activation='softmax')(out_layer)\n",
    "\n",
    "model = keras.Model(inputs=[base_model1.input, base_model2.input, base_model3.input], outputs=predictions)\n",
    "model.compile(optimizer='adam', loss='sparse_categorical_crossentropy', metrics=['accuracy'])"
   ]
  },
  {
   "cell_type": "code",
   "execution_count": 17,
   "metadata": {},
   "outputs": [],
   "source": [
    "logdir = \"logs/3model_ensemb_shared_concat\" + \"_\" + dataset + \"_\" + datetime.now().strftime(\"%Y%m%d-%H%M%S\")\n",
    "tensorboard_callback = keras.callbacks.TensorBoard(log_dir=logdir)"
   ]
  },
  {
   "cell_type": "code",
   "execution_count": 18,
   "metadata": {},
   "outputs": [
    {
     "name": "stdout",
     "output_type": "stream",
     "text": [
      "Epoch 1/5\n",
      "318/318 [==============================] - 141s 370ms/step - loss: 5.0010 - accuracy: 0.0095 - val_loss: 126678.9922 - val_accuracy: 0.0077\n",
      "Epoch 2/5\n",
      "318/318 [==============================] - 76s 239ms/step - loss: 4.7004 - accuracy: 0.0110 - val_loss: 41.6525 - val_accuracy: 0.0077\n",
      "Epoch 3/5\n",
      "318/318 [==============================] - 76s 240ms/step - loss: 4.7136 - accuracy: 0.0126 - val_loss: 251.9150 - val_accuracy: 0.0115\n",
      "Epoch 4/5\n",
      "318/318 [==============================] - 76s 238ms/step - loss: 4.6387 - accuracy: 0.0118 - val_loss: 90.4941 - val_accuracy: 0.0038\n",
      "Epoch 5/5\n",
      "318/318 [==============================] - 76s 239ms/step - loss: 4.6047 - accuracy: 0.0118 - val_loss: 7.7261 - val_accuracy: 0.0153\n"
     ]
    },
    {
     "data": {
      "text/plain": [
       "<keras.callbacks.History at 0x200dcbe5850>"
      ]
     },
     "execution_count": 18,
     "metadata": {},
     "output_type": "execute_result"
    }
   ],
   "source": [
    "model.fit(train_gen, validation_data=val_gen, callbacks=[tensorboard_callback], epochs=5)"
   ]
  },
  {
   "cell_type": "code",
   "execution_count": 19,
   "metadata": {},
   "outputs": [
    {
     "name": "stdout",
     "output_type": "stream",
     "text": [
      "68/68 [==============================] - 10s 143ms/step - loss: 7.5129 - accuracy: 0.0222\n"
     ]
    },
    {
     "data": {
      "text/plain": [
       "[7.512945175170898, 0.02222222276031971]"
      ]
     },
     "execution_count": 19,
     "metadata": {},
     "output_type": "execute_result"
    }
   ],
   "source": [
    "model.evaluate(test_gen)"
   ]
  }
 ],
 "metadata": {
  "interpreter": {
   "hash": "1f584d1f2099a3b6b1aabed6fa6c4f9531bcc1f97f929a8d4f3fbf52265911e6"
  },
  "kernelspec": {
   "display_name": "Python 3.8.12 64-bit ('myenv': conda)",
   "name": "python3"
  },
  "language_info": {
   "codemirror_mode": {
    "name": "ipython",
    "version": 3
   },
   "file_extension": ".py",
   "mimetype": "text/x-python",
   "name": "python",
   "nbconvert_exporter": "python",
   "pygments_lexer": "ipython3",
   "version": "3.8.12"
  },
  "orig_nbformat": 2
 },
 "nbformat": 4,
 "nbformat_minor": 2
}
