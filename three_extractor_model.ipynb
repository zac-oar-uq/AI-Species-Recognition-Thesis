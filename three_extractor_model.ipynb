{
 "cells": [
  {
   "cell_type": "code",
   "execution_count": 3,
   "metadata": {},
   "outputs": [],
   "source": [
    "from tensorflow.keras.applications import InceptionV3\n",
    "from tensorflow import keras\n",
    "from tensorflow.keras.layers import *\n",
    "from prepare_data import *\n",
    "from datetime import datetime\n",
    "from tensorflow.keras.applications.inception_v3 import preprocess_input\n",
    "import albumentations as A\n",
    "import tensorflow as tf"
   ]
  },
  {
   "cell_type": "code",
   "execution_count": 4,
   "metadata": {},
   "outputs": [
    {
     "name": "stdout",
     "output_type": "stream",
     "text": [
      "Found 63364 files belonging to 291 classes.\n",
      "Using 53860 files for training.\n",
      "Found 63364 files belonging to 291 classes.\n",
      "Using 9504 files for validation.\n"
     ]
    }
   ],
   "source": [
    "dataset = Dataset.carabid\n",
    "current_time = datetime.now().strftime(\"%d%m%Y-%H%M%S\")\n",
    "raw_train, raw_val = prep_data_single(dataset, 8)"
   ]
  },
  {
   "cell_type": "code",
   "execution_count": 5,
   "metadata": {},
   "outputs": [],
   "source": [
    "train_gen, val_gen = prep_SGB_dataset(dataset, raw_train, raw_val, 8)\n",
    "del raw_train\n",
    "del raw_val"
   ]
  },
  {
   "cell_type": "code",
   "execution_count": 6,
   "metadata": {},
   "outputs": [],
   "source": [
    "standard_model_path = \"models/carabid/CARABID-EXTRACTOR/extractor/savefile.hdf5\"\n",
    "standard_extractor = keras.models.load_model(standard_model_path).layers[0].layers[-1]\n",
    "standard_extractor.trainable = False\n",
    "\n",
    "gray_model_path = \"models/gray/Dataset.carabid_12042022-162233/extractor/savefile.hdf5\"\n",
    "gray_extractor = keras.models.load_model(gray_model_path).layers[0].layers[-1]\n",
    "gray_extractor.trainable = False\n",
    "\n",
    "\n",
    "blur_model_path = \"models/blur/Dataset.carabid_13042022-101814/extractor/savefile.hdf5\"\n",
    "blur_extractor = keras.models.load_model(blur_model_path).layers[0].layers[-1]\n",
    "blur_extractor.trainable = False"
   ]
  },
  {
   "cell_type": "code",
   "execution_count": 9,
   "metadata": {},
   "outputs": [
    {
     "ename": "ValueError",
     "evalue": "Please initialize `Bidirectional` layer with a `tf.keras.layers.Layer` instance. Received: KerasTensor(type_spec=TensorSpec(shape=(None, 1000), dtype=tf.float32, name=None), name='gru_2/PartitionedCall:0', description=\"created by layer 'gru_2'\")",
     "output_type": "error",
     "traceback": [
      "\u001b[1;31m---------------------------------------------------------------------------\u001b[0m",
      "\u001b[1;31mValueError\u001b[0m                                Traceback (most recent call last)",
      "\u001b[1;32mc:\\Users\\zacoa\\Google Drive\\ZachOar-ENGG4812-Thesis\\ThesisWork\\three_extractor_model.ipynb Cell 5'\u001b[0m in \u001b[0;36m<cell line: 4>\u001b[1;34m()\u001b[0m\n\u001b[0;32m      <a href='vscode-notebook-cell:/c%3A/Users/zacoa/Google%20Drive/ZachOar-ENGG4812-Thesis/ThesisWork/three_extractor_model.ipynb#ch0000006?line=1'>2</a>\u001b[0m reshape_layer \u001b[39m=\u001b[39m Reshape((\u001b[39m3\u001b[39m, \u001b[39m1000\u001b[39m), input_shape\u001b[39m=\u001b[39m(\u001b[39m3000\u001b[39m,))(concat_layer)\n\u001b[0;32m      <a href='vscode-notebook-cell:/c%3A/Users/zacoa/Google%20Drive/ZachOar-ENGG4812-Thesis/ThesisWork/three_extractor_model.ipynb#ch0000006?line=2'>3</a>\u001b[0m gru_layer \u001b[39m=\u001b[39m GRU(\u001b[39m1000\u001b[39m)(reshape_layer)\n\u001b[1;32m----> <a href='vscode-notebook-cell:/c%3A/Users/zacoa/Google%20Drive/ZachOar-ENGG4812-Thesis/ThesisWork/three_extractor_model.ipynb#ch0000006?line=3'>4</a>\u001b[0m rnn_layer \u001b[39m=\u001b[39m Bidirectional(gru_layer)\n\u001b[0;32m      <a href='vscode-notebook-cell:/c%3A/Users/zacoa/Google%20Drive/ZachOar-ENGG4812-Thesis/ThesisWork/three_extractor_model.ipynb#ch0000006?line=4'>5</a>\u001b[0m dropout_layer \u001b[39m=\u001b[39m Dropout(\u001b[39m0.5\u001b[39m)(rnn_layer)\n\u001b[0;32m      <a href='vscode-notebook-cell:/c%3A/Users/zacoa/Google%20Drive/ZachOar-ENGG4812-Thesis/ThesisWork/three_extractor_model.ipynb#ch0000006?line=5'>6</a>\u001b[0m dense_layer \u001b[39m=\u001b[39m Dense(\u001b[39m1000\u001b[39m, activation\u001b[39m=\u001b[39m\u001b[39m'\u001b[39m\u001b[39mrelu\u001b[39m\u001b[39m'\u001b[39m)\n",
      "File \u001b[1;32m~\\AppData\\Local\\Programs\\Python\\Python310\\lib\\site-packages\\keras\\layers\\wrappers.py:453\u001b[0m, in \u001b[0;36mBidirectional.__init__\u001b[1;34m(self, layer, merge_mode, weights, backward_layer, **kwargs)\u001b[0m\n\u001b[0;32m    <a href='file:///c%3A/Users/zacoa/AppData/Local/Programs/Python/Python310/lib/site-packages/keras/layers/wrappers.py?line=445'>446</a>\u001b[0m \u001b[39mdef\u001b[39;00m \u001b[39m__init__\u001b[39m(\u001b[39mself\u001b[39m,\n\u001b[0;32m    <a href='file:///c%3A/Users/zacoa/AppData/Local/Programs/Python/Python310/lib/site-packages/keras/layers/wrappers.py?line=446'>447</a>\u001b[0m              layer,\n\u001b[0;32m    <a href='file:///c%3A/Users/zacoa/AppData/Local/Programs/Python/Python310/lib/site-packages/keras/layers/wrappers.py?line=447'>448</a>\u001b[0m              merge_mode\u001b[39m=\u001b[39m\u001b[39m'\u001b[39m\u001b[39mconcat\u001b[39m\u001b[39m'\u001b[39m,\n\u001b[0;32m    <a href='file:///c%3A/Users/zacoa/AppData/Local/Programs/Python/Python310/lib/site-packages/keras/layers/wrappers.py?line=448'>449</a>\u001b[0m              weights\u001b[39m=\u001b[39m\u001b[39mNone\u001b[39;00m,\n\u001b[0;32m    <a href='file:///c%3A/Users/zacoa/AppData/Local/Programs/Python/Python310/lib/site-packages/keras/layers/wrappers.py?line=449'>450</a>\u001b[0m              backward_layer\u001b[39m=\u001b[39m\u001b[39mNone\u001b[39;00m,\n\u001b[0;32m    <a href='file:///c%3A/Users/zacoa/AppData/Local/Programs/Python/Python310/lib/site-packages/keras/layers/wrappers.py?line=450'>451</a>\u001b[0m              \u001b[39m*\u001b[39m\u001b[39m*\u001b[39mkwargs):\n\u001b[0;32m    <a href='file:///c%3A/Users/zacoa/AppData/Local/Programs/Python/Python310/lib/site-packages/keras/layers/wrappers.py?line=451'>452</a>\u001b[0m   \u001b[39mif\u001b[39;00m \u001b[39mnot\u001b[39;00m \u001b[39misinstance\u001b[39m(layer, Layer):\n\u001b[1;32m--> <a href='file:///c%3A/Users/zacoa/AppData/Local/Programs/Python/Python310/lib/site-packages/keras/layers/wrappers.py?line=452'>453</a>\u001b[0m     \u001b[39mraise\u001b[39;00m \u001b[39mValueError\u001b[39;00m(\n\u001b[0;32m    <a href='file:///c%3A/Users/zacoa/AppData/Local/Programs/Python/Python310/lib/site-packages/keras/layers/wrappers.py?line=453'>454</a>\u001b[0m         \u001b[39m'\u001b[39m\u001b[39mPlease initialize `Bidirectional` layer with a \u001b[39m\u001b[39m'\u001b[39m\n\u001b[0;32m    <a href='file:///c%3A/Users/zacoa/AppData/Local/Programs/Python/Python310/lib/site-packages/keras/layers/wrappers.py?line=454'>455</a>\u001b[0m         \u001b[39mf\u001b[39m\u001b[39m'\u001b[39m\u001b[39m`tf.keras.layers.Layer` instance. Received: \u001b[39m\u001b[39m{\u001b[39;00mlayer\u001b[39m}\u001b[39;00m\u001b[39m'\u001b[39m)\n\u001b[0;32m    <a href='file:///c%3A/Users/zacoa/AppData/Local/Programs/Python/Python310/lib/site-packages/keras/layers/wrappers.py?line=455'>456</a>\u001b[0m   \u001b[39mif\u001b[39;00m backward_layer \u001b[39mis\u001b[39;00m \u001b[39mnot\u001b[39;00m \u001b[39mNone\u001b[39;00m \u001b[39mand\u001b[39;00m \u001b[39mnot\u001b[39;00m \u001b[39misinstance\u001b[39m(backward_layer, Layer):\n\u001b[0;32m    <a href='file:///c%3A/Users/zacoa/AppData/Local/Programs/Python/Python310/lib/site-packages/keras/layers/wrappers.py?line=456'>457</a>\u001b[0m     \u001b[39mraise\u001b[39;00m \u001b[39mValueError\u001b[39;00m(\n\u001b[0;32m    <a href='file:///c%3A/Users/zacoa/AppData/Local/Programs/Python/Python310/lib/site-packages/keras/layers/wrappers.py?line=457'>458</a>\u001b[0m         \u001b[39m'\u001b[39m\u001b[39m`backward_layer` need to be a `tf.keras.layers.Layer` instance. \u001b[39m\u001b[39m'\u001b[39m\n\u001b[0;32m    <a href='file:///c%3A/Users/zacoa/AppData/Local/Programs/Python/Python310/lib/site-packages/keras/layers/wrappers.py?line=458'>459</a>\u001b[0m         \u001b[39mf\u001b[39m\u001b[39m'\u001b[39m\u001b[39mReceived: \u001b[39m\u001b[39m{\u001b[39;00mbackward_layer\u001b[39m}\u001b[39;00m\u001b[39m'\u001b[39m)\n",
      "\u001b[1;31mValueError\u001b[0m: Please initialize `Bidirectional` layer with a `tf.keras.layers.Layer` instance. Received: KerasTensor(type_spec=TensorSpec(shape=(None, 1000), dtype=tf.float32, name=None), name='gru_2/PartitionedCall:0', description=\"created by layer 'gru_2'\")"
     ]
    }
   ],
   "source": [
    "concat_layer = concatenate([standard_extractor.output, gray_extractor.output, blur_extractor.output])\n",
    "reshape_layer = Reshape((3, 1000), input_shape=(3000,))(concat_layer)\n",
    "gru_layer = GRU(1000)(reshape_layer)\n",
    "rnn_layer = Bidirectional(gru_layer)\n",
    "dropout_layer = Dropout(0.5)(rnn_layer)\n",
    "dense_layer = Dense(1000, activation='relu')\n",
    "softmax = Dense(train_gen.num_classes(), activation='softmax')(dense_layer)"
   ]
  },
  {
   "cell_type": "code",
   "execution_count": null,
   "metadata": {},
   "outputs": [],
   "source": [
    "classifier_model = keras.Model(inputs=[standard_extractor.input, gray_extractor.input, blur_extractor.input], outputs=softmax)\n",
    "classifier_model.compile(optimizer=keras.optimizers.Adam(learning_rate=0.00001), loss='sparse_categorical_crossentropy', metrics=['accuracy'])\n",
    "print(classifier_model.summary())"
   ]
  },
  {
   "cell_type": "code",
   "execution_count": null,
   "metadata": {},
   "outputs": [],
   "source": [
    "logdir = \"logs/unfiltered/{0}_{1}/classifier\".format(str(dataset), current_time)\n",
    "tensorboard_callback = keras.callbacks.TensorBoard(log_dir=logdir)\n",
    "\n",
    "model_path = \"models/unfiltered/{0}_{1}/classifier/savefile.hdf5\".format(str(dataset), current_time)\n",
    "model_save_callback = keras.callbacks.ModelCheckpoint(filepath=model_path, save_best_only=True, monitor='val_accuracy', mode='max', verbose=1)"
   ]
  },
  {
   "cell_type": "code",
   "execution_count": null,
   "metadata": {},
   "outputs": [],
   "source": [
    "class ShuffleCallback(keras.callbacks.Callback):\n",
    "    def __init__(self, generator):\n",
    "        self._generator = generator\n",
    "        \n",
    "    def on_epoch_end(self, epoch, logs=None):\n",
    "        self._generator.shuffle()\n",
    "    \n",
    "train_shuffle_callback = ShuffleCallback(train_gen)\n",
    "val_shuffle_callback = ShuffleCallback(val_gen)"
   ]
  },
  {
   "cell_type": "code",
   "execution_count": null,
   "metadata": {},
   "outputs": [],
   "source": [
    "import absl.logging\n",
    "absl.logging.set_verbosity(absl.logging.ERROR)\n",
    "classifier_model.fit(train_gen, validation_data=val_gen, callbacks=[tensorboard_callback, model_save_callback, train_shuffle_callback, val_shuffle_callback], epochs=20)"
   ]
  }
 ],
 "metadata": {
  "interpreter": {
   "hash": "1f584d1f2099a3b6b1aabed6fa6c4f9531bcc1f97f929a8d4f3fbf52265911e6"
  },
  "kernelspec": {
   "display_name": "Python 3.8.12 64-bit ('myenv': conda)",
   "name": "python3"
  },
  "language_info": {
   "codemirror_mode": {
    "name": "ipython",
    "version": 3
   },
   "file_extension": ".py",
   "mimetype": "text/x-python",
   "name": "python",
   "nbconvert_exporter": "python",
   "pygments_lexer": "ipython3",
   "version": "3.10.4"
  },
  "orig_nbformat": 2
 },
 "nbformat": 4,
 "nbformat_minor": 2
}
